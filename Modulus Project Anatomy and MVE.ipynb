{
 "cells": [
  {
   "cell_type": "markdown",
   "metadata": {},
   "source": [
    "The objective of this notebook is to follow the Modulus Project Anatomy and Workflow to solve a minumum viable example, using Modulus as a Neural Solver for Diferential Equations.\n",
    "\n",
    "*I've written the text myself using Modulus Documentation and Resources provided by Nvidia, critique and feedback on content are endorsed and welcomed.*\n",
    "*Most of the images used belong to Nvidia Documentation and I am not really sure how licensing works but it's out there so I took it and here is some credit and thanks a lot*"
   ]
  },
  {
   "cell_type": "markdown",
   "metadata": {},
   "source": [
    "## We will follow these steps to accomplish pre-training tasks and model our PiNN: Physics Informed Neural Network.\n",
    "Some basic note taking to be used as referenced when reading the implementations:\n",
    "\n",
    "\n",
    "### 1.Hydra:\n",
    "Hydra is our helper component to set our initial hyper-parameters for model building, that is, it will help us define out neural network layout, optimizer, steps, epochs,decay, loss function,solver, and logging in a standardized, replicable, and scaled way.\n",
    "\n",
    "### 2.Geometry:\n",
    "That is a keyword I really liked stumbling upon, the geometry of the problem. It is not just a data class or object, it is supposed to be an actual interpretation of the problem and it's dimensionality. The geometry is intrinsically attached to the boundaries we set for our problem, thus, our equation losses. There are pre-declared classes that help us declare the domain of our inputs.\n",
    "\n",
    "### 3. Creating and Adding Constraints to Domain/Solver:\n",
    "Modulus allow for **Sympy equations** to be converted to PyTorch equations in the back-end and can be printed for checking at any point of the training process.\n",
    "Constraints and Training Objectives are alligned in physics driven problems and exactly satisfy the boundary conditions and make the PDE's residuals go to zero as fast as possible.\n",
    "\n",
    "Example Classes: PointwiseBoundaryConstraint, PointwiseInteriorConstraint.\n",
    "Loss funcions are constructed from these constraints to be optimised upon.\n",
    "Criteria object is used for sub-sampling constraints, refer to docs.\n",
    "\n",
    "The Constraint Dictionary: Nodes, Geometry, Outvar = {\"Equations to solve\": Desired Values }, batch_size, bounds{variable:Range_to_sampĺe_values}\n",
    "\n",
    "### 4.Inferencer and Result Monitoring, building the Solver.\n",
    "I plan to go in-depth in result monitoring later, for now basic monitoring is prrovided and a inferencer using PointwiseINferencerr class is used as a final component to build our Solver.\n",
    "\n",
    "We extend the Solver class then run .solve(), add a main() to call our script from shell moreover running with multiple gpus using mpirun -bp <#GPU> <script_name>.py \n",
    "\n",
    "### 5. Solving Parameterized Problems\n",
    "That's one of the most powerful features of PiNNs, it will be ilustrated and the algebra will be laid down, but as seem, the architecture incetivizes the use of arbitrary desired values, and easily comprehends parametrized intervals as such. It will be shown how our solver performs when our boundaries are the same, but the desired outcome varies between a given interval. It does not fit or solve a specific function, it learns how to respect the boundaries and produce expected behaviours for any interval in our geometry domain. "
   ]
  },
  {
   "cell_type": "markdown",
   "metadata": {
    "vscode": {
     "languageId": "plaintext"
    }
   },
   "source": []
  },
  {
   "cell_type": "code",
   "execution_count": null,
   "metadata": {
    "vscode": {
     "languageId": "plaintext"
    }
   },
   "outputs": [],
   "source": []
  },
  {
   "cell_type": "markdown",
   "metadata": {},
   "source": []
  }
 ],
 "metadata": {
  "kernelspec": {
   "display_name": "modulus-venv",
   "language": "python",
   "name": "python3"
  },
  "language_info": {
   "name": "python",
   "version": "3.10.14"
  }
 },
 "nbformat": 4,
 "nbformat_minor": 2
}
